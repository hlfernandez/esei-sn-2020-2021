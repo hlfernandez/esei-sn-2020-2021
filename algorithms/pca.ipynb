{
 "cells": [
  {
   "cell_type": "markdown",
   "metadata": {},
   "source": [
    "# Principal Component Analysis utilizando `sklearn`\n",
    "\n",
    "Este notebook sirve como complemento a la clase 4 (Dimensionality Reduction) y tiene como fin ilustrar cómo se calcula la PCA para una matriz de entrada sencilla con 6 muestras y 2 variables. Utilizaremos la librería `sklearn` (https://scikit-learn.org/stable/modules/generated/sklearn.decomposition.PCA.html). Comenzamos definiendo la matriz y representándola gráficamente."
   ]
  },
  {
   "cell_type": "code",
   "execution_count": 1,
   "metadata": {},
   "outputs": [
    {
     "name": "stdout",
     "output_type": "stream",
     "text": [
      "Input data:\n"
     ]
    },
    {
     "data": {
      "text/html": [
       "<div>\n",
       "<style scoped>\n",
       "    .dataframe tbody tr th:only-of-type {\n",
       "        vertical-align: middle;\n",
       "    }\n",
       "\n",
       "    .dataframe tbody tr th {\n",
       "        vertical-align: top;\n",
       "    }\n",
       "\n",
       "    .dataframe thead th {\n",
       "        text-align: right;\n",
       "    }\n",
       "</style>\n",
       "<table border=\"1\" class=\"dataframe\">\n",
       "  <thead>\n",
       "    <tr style=\"text-align: right;\">\n",
       "      <th></th>\n",
       "      <th>V1</th>\n",
       "      <th>V2</th>\n",
       "    </tr>\n",
       "  </thead>\n",
       "  <tbody>\n",
       "    <tr>\n",
       "      <th>0</th>\n",
       "      <td>10</td>\n",
       "      <td>6</td>\n",
       "    </tr>\n",
       "    <tr>\n",
       "      <th>1</th>\n",
       "      <td>11</td>\n",
       "      <td>4</td>\n",
       "    </tr>\n",
       "    <tr>\n",
       "      <th>2</th>\n",
       "      <td>8</td>\n",
       "      <td>5</td>\n",
       "    </tr>\n",
       "    <tr>\n",
       "      <th>3</th>\n",
       "      <td>3</td>\n",
       "      <td>3</td>\n",
       "    </tr>\n",
       "    <tr>\n",
       "      <th>4</th>\n",
       "      <td>1</td>\n",
       "      <td>2</td>\n",
       "    </tr>\n",
       "    <tr>\n",
       "      <th>5</th>\n",
       "      <td>2</td>\n",
       "      <td>1</td>\n",
       "    </tr>\n",
       "  </tbody>\n",
       "</table>\n",
       "</div>"
      ],
      "text/plain": [
       "   V1  V2\n",
       "0  10   6\n",
       "1  11   4\n",
       "2   8   5\n",
       "3   3   3\n",
       "4   1   2\n",
       "5   2   1"
      ]
     },
     "metadata": {},
     "output_type": "display_data"
    },
    {
     "data": {
      "text/plain": [
       "<AxesSubplot:xlabel='V1', ylabel='V2'>"
      ]
     },
     "execution_count": 1,
     "metadata": {},
     "output_type": "execute_result"
    },
    {
     "data": {
      "image/png": "[encoded data removed]",
      "text/plain": [
       "<Figure size 432x288 with 1 Axes>"
      ]
     },
     "metadata": {
      "needs_background": "light"
     },
     "output_type": "display_data"
    }
   ],
   "source": [
    "import pandas as pd\n",
    "import matplotlib.pyplot as plt\n",
    "\n",
    "df = pd.DataFrame({\n",
    "    'V1': [10, 11, 8, 3, 1, 2],\n",
    "    'V2': [6, 4, 5, 3, 2, 1]\n",
    "})\n",
    "\n",
    "print(\"Input data:\")\n",
    "display(df)\n",
    "\n",
    "df.plot.scatter(x = 'V1', y = 'V2', c = 'blue')"
   ]
  },
  {
   "cell_type": "markdown",
   "metadata": {},
   "source": [
    "Como vimos, la matriz de entrada debe centrarse (restar a cada valor la media de su columna/variable) antes de aplicar la PCA. Hacemos esto y representamos de nuevo el resultado gráficamente. Aunque ha cambiado la localización de los puntos, las posiciones relativas entre ellas son exactamente las mismas."
   ]
  },
  {
   "cell_type": "code",
   "execution_count": 2,
   "metadata": {},
   "outputs": [
    {
     "name": "stdout",
     "output_type": "stream",
     "text": [
      "Centered data:\n"
     ]
    },
    {
     "name": "stderr",
     "output_type": "stream",
     "text": [
      "/opt/conda/lib/python3.7/site-packages/ipykernel_launcher.py:1: UserWarning: Pandas doesn't allow columns to be created via a new attribute name - see https://pandas.pydata.org/pandas-docs/stable/indexing.html#attribute-access\n",
      "  \"\"\"Entry point for launching an IPython kernel.\n"
     ]
    },
    {
     "data": {
      "text/html": [
       "<div>\n",
       "<style scoped>\n",
       "    .dataframe tbody tr th:only-of-type {\n",
       "        vertical-align: middle;\n",
       "    }\n",
       "\n",
       "    .dataframe tbody tr th {\n",
       "        vertical-align: top;\n",
       "    }\n",
       "\n",
       "    .dataframe thead th {\n",
       "        text-align: right;\n",
       "    }\n",
       "</style>\n",
       "<table border=\"1\" class=\"dataframe\">\n",
       "  <thead>\n",
       "    <tr style=\"text-align: right;\">\n",
       "      <th></th>\n",
       "      <th>V1</th>\n",
       "      <th>V2</th>\n",
       "    </tr>\n",
       "  </thead>\n",
       "  <tbody>\n",
       "    <tr>\n",
       "      <th>0</th>\n",
       "      <td>4.166667</td>\n",
       "      <td>2.5</td>\n",
       "    </tr>\n",
       "    <tr>\n",
       "      <th>1</th>\n",
       "      <td>5.166667</td>\n",
       "      <td>0.5</td>\n",
       "    </tr>\n",
       "    <tr>\n",
       "      <th>2</th>\n",
       "      <td>2.166667</td>\n",
       "      <td>1.5</td>\n",
       "    </tr>\n",
       "    <tr>\n",
       "      <th>3</th>\n",
       "      <td>-2.833333</td>\n",
       "      <td>-0.5</td>\n",
       "    </tr>\n",
       "    <tr>\n",
       "      <th>4</th>\n",
       "      <td>-4.833333</td>\n",
       "      <td>-1.5</td>\n",
       "    </tr>\n",
       "    <tr>\n",
       "      <th>5</th>\n",
       "      <td>-3.833333</td>\n",
       "      <td>-2.5</td>\n",
       "    </tr>\n",
       "  </tbody>\n",
       "</table>\n",
       "</div>"
      ],
      "text/plain": [
       "         V1   V2\n",
       "0  4.166667  2.5\n",
       "1  5.166667  0.5\n",
       "2  2.166667  1.5\n",
       "3 -2.833333 -0.5\n",
       "4 -4.833333 -1.5\n",
       "5 -3.833333 -2.5"
      ]
     },
     "metadata": {},
     "output_type": "display_data"
    },
    {
     "data": {
      "text/plain": [
       "<matplotlib.lines.Line2D at 0x7f6240204208>"
      ]
     },
     "execution_count": 2,
     "metadata": {},
     "output_type": "execute_result"
    },
    {
     "data": {
      "image/png": "[encoded data removed]",
      "text/plain": [
       "<Figure size 432x288 with 1 Axes>"
      ]
     },
     "metadata": {
      "needs_background": "light"
     },
     "output_type": "display_data"
    }
   ],
   "source": [
    "df.centered = df - df.mean()\n",
    "\n",
    "print(\"Centered data:\")\n",
    "display(df.centered)\n",
    "\n",
    "df.centered.plot.scatter(x = 'V1', y = 'V2', c = 'blue')\n",
    "plt.axhline(y=0, color='black', linestyle='-')\n",
    "plt.axvline(x=0, color='black', linestyle='-')"
   ]
  },
  {
   "cell_type": "markdown",
   "metadata": {},
   "source": [
    "Ahora utilizamos la función `PCA` de sklearn para hacer el cálculo de las componentes principales y transformar los datos de entrada utilizando `fit_transform`. Podemos utilizar como entrada el DataFrame original sin centrar puesto que la librería se encarga de ello, tal y como dice en su documentación: *The input data is centered but not scaled for each feature before applying the SVD.*. En el DataFrame `points` tendremos los datos transformados al nuevo espacio."
   ]
  },
  {
   "cell_type": "code",
   "execution_count": 3,
   "metadata": {},
   "outputs": [
    {
     "name": "stdout",
     "output_type": "stream",
     "text": [
      "Transformed data:\n"
     ]
    },
    {
     "data": {
      "text/html": [
       "<div>\n",
       "<style scoped>\n",
       "    .dataframe tbody tr th:only-of-type {\n",
       "        vertical-align: middle;\n",
       "    }\n",
       "\n",
       "    .dataframe tbody tr th {\n",
       "        vertical-align: top;\n",
       "    }\n",
       "\n",
       "    .dataframe thead th {\n",
       "        text-align: right;\n",
       "    }\n",
       "</style>\n",
       "<table border=\"1\" class=\"dataframe\">\n",
       "  <thead>\n",
       "    <tr style=\"text-align: right;\">\n",
       "      <th></th>\n",
       "      <th>PC1</th>\n",
       "      <th>PC2</th>\n",
       "    </tr>\n",
       "  </thead>\n",
       "  <tbody>\n",
       "    <tr>\n",
       "      <th>0</th>\n",
       "      <td>-4.783923</td>\n",
       "      <td>-0.851580</td>\n",
       "    </tr>\n",
       "    <tr>\n",
       "      <th>1</th>\n",
       "      <td>-5.005804</td>\n",
       "      <td>1.373452</td>\n",
       "    </tr>\n",
       "    <tr>\n",
       "      <th>2</th>\n",
       "      <td>-2.558891</td>\n",
       "      <td>-0.629699</td>\n",
       "    </tr>\n",
       "    <tr>\n",
       "      <th>3</th>\n",
       "      <td>2.825563</td>\n",
       "      <td>-0.542192</td>\n",
       "    </tr>\n",
       "    <tr>\n",
       "      <th>4</th>\n",
       "      <td>5.050595</td>\n",
       "      <td>-0.320312</td>\n",
       "    </tr>\n",
       "    <tr>\n",
       "      <th>5</th>\n",
       "      <td>4.472460</td>\n",
       "      <td>0.970332</td>\n",
       "    </tr>\n",
       "  </tbody>\n",
       "</table>\n",
       "</div>"
      ],
      "text/plain": [
       "        PC1       PC2\n",
       "0 -4.783923 -0.851580\n",
       "1 -5.005804  1.373452\n",
       "2 -2.558891 -0.629699\n",
       "3  2.825563 -0.542192\n",
       "4  5.050595 -0.320312\n",
       "5  4.472460  0.970332"
      ]
     },
     "metadata": {},
     "output_type": "display_data"
    }
   ],
   "source": [
    "from sklearn.decomposition import PCA\n",
    "\n",
    "pca = PCA(n_components=2)\n",
    "points = pca.fit_transform(df)\n",
    "points = pd.DataFrame(points)\n",
    "points.columns = ['PC1', 'PC2']\n",
    "\n",
    "print(\"Transformed data:\")\n",
    "display(points)"
   ]
  },
  {
   "cell_type": "markdown",
   "metadata": {},
   "source": [
    "Vamos a analizar el resto de resultados asociados a la PCA. En primer lugar, la variable `pca.components_` alberga los pesos de las componentes (loadings o weights). `components_` tiene las componentes en filas y las variables de entrada en columnas."
   ]
  },
  {
   "cell_type": "code",
   "execution_count": 4,
   "metadata": {},
   "outputs": [
    {
     "name": "stdout",
     "output_type": "stream",
     "text": [
      "PCA Loadings:\n"
     ]
    },
    {
     "data": {
      "text/html": [
       "<div>\n",
       "<style scoped>\n",
       "    .dataframe tbody tr th:only-of-type {\n",
       "        vertical-align: middle;\n",
       "    }\n",
       "\n",
       "    .dataframe tbody tr th {\n",
       "        vertical-align: top;\n",
       "    }\n",
       "\n",
       "    .dataframe thead th {\n",
       "        text-align: right;\n",
       "    }\n",
       "</style>\n",
       "<table border=\"1\" class=\"dataframe\">\n",
       "  <thead>\n",
       "    <tr style=\"text-align: right;\">\n",
       "      <th></th>\n",
       "      <th>PC1</th>\n",
       "      <th>PC2</th>\n",
       "    </tr>\n",
       "  </thead>\n",
       "  <tbody>\n",
       "    <tr>\n",
       "      <th>0</th>\n",
       "      <td>-0.934389</td>\n",
       "      <td>0.356254</td>\n",
       "    </tr>\n",
       "    <tr>\n",
       "      <th>1</th>\n",
       "      <td>-0.356254</td>\n",
       "      <td>-0.934389</td>\n",
       "    </tr>\n",
       "  </tbody>\n",
       "</table>\n",
       "</div>"
      ],
      "text/plain": [
       "        PC1       PC2\n",
       "0 -0.934389  0.356254\n",
       "1 -0.356254 -0.934389"
      ]
     },
     "metadata": {},
     "output_type": "display_data"
    }
   ],
   "source": [
    "loadings = pd.DataFrame(pca.components_.T, columns=['PC1', 'PC2'])\n",
    "\n",
    "print(\"PCA Loadings:\")\n",
    "display(loadings)"
   ]
  },
  {
   "cell_type": "markdown",
   "metadata": {},
   "source": [
    "Dado que ambas componentes son ortogonales, podemos comprobar que su producto escalar es 0:"
   ]
  },
  {
   "cell_type": "code",
   "execution_count": 5,
   "metadata": {},
   "outputs": [
    {
     "name": "stdout",
     "output_type": "stream",
     "text": [
      "The dot product of the loadings is:  0.0\n"
     ]
    }
   ],
   "source": [
    "import numpy as np\n",
    "\n",
    "dotProduct = np.dot(loadings['PC1'],loadings['PC2'])\n",
    "print(\"The dot product of the loadings is: \", dotProduct)"
   ]
  },
  {
   "cell_type": "markdown",
   "metadata": {},
   "source": [
    "El resultado de la PCA también contiene tres variables con la varianza explicada y el porcentaje de varianza explicada por cada componente. Imprimimos estos valores y, a mayores, el porcentaje de varianza acumulada. Recuerda que las componentes están ordenadas decrecientemente por porcentaje de varianza explicada, ya que la primera componente es la que mayor porcentaje de varianza explica."
   ]
  },
  {
   "cell_type": "code",
   "execution_count": 6,
   "metadata": {},
   "outputs": [
    {
     "name": "stdout",
     "output_type": "stream",
     "text": [
      "La varianza explicada por cada componente es:  [21.59742733  0.86923933]\n",
      "El porcentaje de varianza explicada por cada componente es:  [0.96130982 0.03869018]\n",
      "El acumulado del porcentaje de varianza explicada por cada componente es:  [0.96130982 1.        ]\n"
     ]
    }
   ],
   "source": [
    "print(\"La varianza explicada por cada componente es: \", str(pca.explained_variance_))\n",
    "print(\"El porcentaje de varianza explicada por cada componente es: \", str(pca.explained_variance_ratio_))\n",
    "print(\"El acumulado del porcentaje de varianza explicada por cada componente es: \", str(pca.explained_variance_ratio_.cumsum()))"
   ]
  },
  {
   "cell_type": "markdown",
   "metadata": {},
   "source": [
    "Es instructivo comprobar cómo estas varianzas se pueden obtener a partir de la matriz de datos transformados (`points`). Calculamos las varianzas utilizando la fórmula y utilizando la función `var` del pandas DataFrame."
   ]
  },
  {
   "cell_type": "code",
   "execution_count": 7,
   "metadata": {},
   "outputs": [
    {
     "name": "stdout",
     "output_type": "stream",
     "text": [
      "La varianza de PC1 es:\n"
     ]
    },
    {
     "data": {
      "text/plain": [
       "21.59742733350742"
      ]
     },
     "metadata": {},
     "output_type": "display_data"
    },
    {
     "name": "stdout",
     "output_type": "stream",
     "text": [
      "\n",
      "La varianza de PC2 es:\n"
     ]
    },
    {
     "data": {
      "text/plain": [
       "0.869239333159249"
      ]
     },
     "metadata": {},
     "output_type": "display_data"
    },
    {
     "name": "stdout",
     "output_type": "stream",
     "text": [
      "\n",
      "La varianza de PC1 y PC2 es:\n"
     ]
    },
    {
     "data": {
      "text/plain": [
       "PC1    21.597427\n",
       "PC2     0.869239\n",
       "dtype: float64"
      ]
     },
     "metadata": {},
     "output_type": "display_data"
    }
   ],
   "source": [
    "print(\"La varianza de PC1 es:\")\n",
    "display(sum(points['PC1'] * points['PC1']) / 5)\n",
    "\n",
    "print(\"\\nLa varianza de PC2 es:\")\n",
    "display(sum(points['PC2'] * points['PC2']) / 5)\n",
    "\n",
    "print(\"\\nLa varianza de PC1 y PC2 es:\")\n",
    "display(points.var(axis = 0))"
   ]
  },
  {
   "cell_type": "markdown",
   "metadata": {},
   "source": [
    "Y para terminar con las varianzas, hacemos un `scree plot`: un gráfico de barras donde representamos el porcentaje de varianza explicad por cada PC."
   ]
  },
  {
   "cell_type": "code",
   "execution_count": 8,
   "metadata": {},
   "outputs": [
    {
     "data": {
      "image/png": "[encoded data removed]",
      "text/plain": [
       "<Figure size 432x288 with 1 Axes>"
      ]
     },
     "metadata": {
      "needs_background": "light"
     },
     "output_type": "display_data"
    }
   ],
   "source": [
    "var = pd.DataFrame({'var': pca.explained_variance_ratio_, 'PC':['PC1','PC2']})\n",
    "var.plot.bar(x='PC', y=\"var\", color=\"black\");"
   ]
  },
  {
   "cell_type": "markdown",
   "metadata": {},
   "source": [
    "Para acabar con el ejemplo, vamos a representar gráficamente las componentes principales y los datos transformados al nuevo espacio. Empezamos visualizando la matriz de datos de entrada (utilizamos la versión centrada) y representamos sobre ella las dos líneas que corresponden a las componentes principales."
   ]
  },
  {
   "cell_type": "code",
   "execution_count": 9,
   "metadata": {},
   "outputs": [
    {
     "data": {
      "text/plain": [
       "[<matplotlib.lines.Line2D at 0x7f621d5c1d68>]"
      ]
     },
     "execution_count": 9,
     "metadata": {},
     "output_type": "execute_result"
    },
    {
     "data": {
      "image/png": "[encoded data removed]",
      "text/plain": [
       "<Figure size 432x288 with 1 Axes>"
      ]
     },
     "metadata": {
      "needs_background": "light"
     },
     "output_type": "display_data"
    }
   ],
   "source": [
    "import numpy as np\n",
    "\n",
    "df.centered.plot.scatter(x = 'V1', y = 'V2', c = 'blue')\n",
    "\n",
    "# Make sure the axis have the same graphical scale to appreciate that the two lines are orthogonal\n",
    "plt.axis('equal')\n",
    "plt.xlim(-5, 5)\n",
    "plt.ylim(-5, 5)\n",
    "\n",
    "# Draw the axis at 0\n",
    "plt.axhline(y=0, color='black', linestyle='-')\n",
    "plt.axvline(x=0, color='black', linestyle='-')\n",
    "\n",
    "# Draw the horizontal line for PC1. The intercept is 0 and the slope is the ratio between the PC loadings.\n",
    "\n",
    "i=0 # intercept\n",
    "s=loadings['PC1'][1]/loadings['PC1'][0] # slope\n",
    "x=np.linspace(-6,6,50)\n",
    "plt.plot(x, s*x + i)\n",
    "\n",
    "# Draw the horizontal line for PC1. The intercept is 0 and the slope is the ratio between the PC loadings.\n",
    "i=0 # intercept\n",
    "s=loadings['PC2'][1]/loadings['PC2'][0] # slope\n",
    "# s = -1/s # We know PC2 is orthogonal to PC1, so we could compute PC2's slope this way\n",
    "x=np.linspace(-2,2,50)\n",
    "plt.plot(x, s*x + i)"
   ]
  },
  {
   "cell_type": "markdown",
   "metadata": {},
   "source": [
    "Y ahora hacemos el scatterplot de la matriz de datos transformada. Como se puede ver, la mayor variación está en el eje asociado a PC1, pues es donde los puntos se dispersan más."
   ]
  },
  {
   "cell_type": "code",
   "execution_count": 10,
   "metadata": {},
   "outputs": [
    {
     "name": "stdout",
     "output_type": "stream",
     "text": [
      "Transformed data:\n"
     ]
    },
    {
     "data": {
      "text/html": [
       "<div>\n",
       "<style scoped>\n",
       "    .dataframe tbody tr th:only-of-type {\n",
       "        vertical-align: middle;\n",
       "    }\n",
       "\n",
       "    .dataframe tbody tr th {\n",
       "        vertical-align: top;\n",
       "    }\n",
       "\n",
       "    .dataframe thead th {\n",
       "        text-align: right;\n",
       "    }\n",
       "</style>\n",
       "<table border=\"1\" class=\"dataframe\">\n",
       "  <thead>\n",
       "    <tr style=\"text-align: right;\">\n",
       "      <th></th>\n",
       "      <th>PC1</th>\n",
       "      <th>PC2</th>\n",
       "    </tr>\n",
       "  </thead>\n",
       "  <tbody>\n",
       "    <tr>\n",
       "      <th>0</th>\n",
       "      <td>-4.783923</td>\n",
       "      <td>-0.851580</td>\n",
       "    </tr>\n",
       "    <tr>\n",
       "      <th>1</th>\n",
       "      <td>-5.005804</td>\n",
       "      <td>1.373452</td>\n",
       "    </tr>\n",
       "    <tr>\n",
       "      <th>2</th>\n",
       "      <td>-2.558891</td>\n",
       "      <td>-0.629699</td>\n",
       "    </tr>\n",
       "    <tr>\n",
       "      <th>3</th>\n",
       "      <td>2.825563</td>\n",
       "      <td>-0.542192</td>\n",
       "    </tr>\n",
       "    <tr>\n",
       "      <th>4</th>\n",
       "      <td>5.050595</td>\n",
       "      <td>-0.320312</td>\n",
       "    </tr>\n",
       "    <tr>\n",
       "      <th>5</th>\n",
       "      <td>4.472460</td>\n",
       "      <td>0.970332</td>\n",
       "    </tr>\n",
       "  </tbody>\n",
       "</table>\n",
       "</div>"
      ],
      "text/plain": [
       "        PC1       PC2\n",
       "0 -4.783923 -0.851580\n",
       "1 -5.005804  1.373452\n",
       "2 -2.558891 -0.629699\n",
       "3  2.825563 -0.542192\n",
       "4  5.050595 -0.320312\n",
       "5  4.472460  0.970332"
      ]
     },
     "metadata": {},
     "output_type": "display_data"
    },
    {
     "data": {
      "text/plain": [
       "<matplotlib.lines.Line2D at 0x7f621d51d7b8>"
      ]
     },
     "execution_count": 10,
     "metadata": {},
     "output_type": "execute_result"
    },
    {
     "data": {
      "image/png": "[encoded data removed]",
      "text/plain": [
       "<Figure size 432x288 with 1 Axes>"
      ]
     },
     "metadata": {
      "needs_background": "light"
     },
     "output_type": "display_data"
    }
   ],
   "source": [
    "print(\"Transformed data:\")\n",
    "display(points)\n",
    "\n",
    "points.plot.scatter(x = 'PC1', y = 'PC2', c = 'blue')\n",
    "plt.xlim(-6, 6)\n",
    "plt.ylim(-6, 6)\n",
    "plt.axhline(y=0, color='black', linestyle='-')\n",
    "plt.axvline(x=0, color='black', linestyle='-')"
   ]
  }
 ],
 "metadata": {
  "kernelspec": {
   "display_name": "Python 3",
   "language": "python",
   "name": "python3"
  },
  "language_info": {
   "codemirror_mode": {
    "name": "ipython",
    "version": 3
   },
   "file_extension": ".py",
   "mimetype": "text/x-python",
   "name": "python",
   "nbconvert_exporter": "python",
   "pygments_lexer": "ipython3",
   "version": "3.7.3"
  }
 },
 "nbformat": 4,
 "nbformat_minor": 2
}
