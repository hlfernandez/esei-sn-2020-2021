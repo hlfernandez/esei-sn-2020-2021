{
 "cells": [
  {
   "cell_type": "markdown",
   "metadata": {},
   "source": [
    "# Ejemplo básico de K-Means en Python utilizando `sklearn`\n",
    "\n",
    "En este notebook se presenta un ejemplo básico de K-Means en Python utilizando la librería `sklearn` (https://scikit-learn.org/stable/modules/generated/sklearn.cluster.KMeans.html). Como es habitual, empezamos importando las librerías necesarias:"
   ]
  },
  {
   "cell_type": "code",
   "execution_count": 1,
   "metadata": {},
   "outputs": [],
   "source": [
    "import pandas as pd\n",
    "import numpy as np\n",
    "from sklearn import preprocessing \n",
    "from sklearn.cluster import KMeans\n",
    "import matplotlib.pyplot as plt"
   ]
  },
  {
   "cell_type": "markdown",
   "metadata": {},
   "source": [
    "Creamos el DataFrame pandas con los datos de entrada: 8 muestras (filas) y 2 variables (columnas):"
   ]
  },
  {
   "cell_type": "code",
   "execution_count": 2,
   "metadata": {},
   "outputs": [
    {
     "data": {
      "text/html": [
       "<div>\n",
       "<style scoped>\n",
       "    .dataframe tbody tr th:only-of-type {\n",
       "        vertical-align: middle;\n",
       "    }\n",
       "\n",
       "    .dataframe tbody tr th {\n",
       "        vertical-align: top;\n",
       "    }\n",
       "\n",
       "    .dataframe thead th {\n",
       "        text-align: right;\n",
       "    }\n",
       "</style>\n",
       "<table border=\"1\" class=\"dataframe\">\n",
       "  <thead>\n",
       "    <tr style=\"text-align: right;\">\n",
       "      <th></th>\n",
       "      <th>A</th>\n",
       "      <th>B</th>\n",
       "    </tr>\n",
       "  </thead>\n",
       "  <tbody>\n",
       "    <tr>\n",
       "      <th>0</th>\n",
       "      <td>0.93</td>\n",
       "      <td>0.09</td>\n",
       "    </tr>\n",
       "    <tr>\n",
       "      <th>1</th>\n",
       "      <td>0.91</td>\n",
       "      <td>0.07</td>\n",
       "    </tr>\n",
       "    <tr>\n",
       "      <th>2</th>\n",
       "      <td>0.89</td>\n",
       "      <td>0.13</td>\n",
       "    </tr>\n",
       "    <tr>\n",
       "      <th>3</th>\n",
       "      <td>0.87</td>\n",
       "      <td>0.11</td>\n",
       "    </tr>\n",
       "    <tr>\n",
       "      <th>4</th>\n",
       "      <td>0.19</td>\n",
       "      <td>0.83</td>\n",
       "    </tr>\n",
       "    <tr>\n",
       "      <th>5</th>\n",
       "      <td>0.17</td>\n",
       "      <td>0.81</td>\n",
       "    </tr>\n",
       "    <tr>\n",
       "      <th>6</th>\n",
       "      <td>0.23</td>\n",
       "      <td>0.79</td>\n",
       "    </tr>\n",
       "    <tr>\n",
       "      <th>7</th>\n",
       "      <td>0.21</td>\n",
       "      <td>0.77</td>\n",
       "    </tr>\n",
       "  </tbody>\n",
       "</table>\n",
       "</div>"
      ],
      "text/plain": [
       "      A     B\n",
       "0  0.93  0.09\n",
       "1  0.91  0.07\n",
       "2  0.89  0.13\n",
       "3  0.87  0.11\n",
       "4  0.19  0.83\n",
       "5  0.17  0.81\n",
       "6  0.23  0.79\n",
       "7  0.21  0.77"
      ]
     },
     "execution_count": 2,
     "metadata": {},
     "output_type": "execute_result"
    }
   ],
   "source": [
    "d = {\n",
    "    'A': [0.93, 0.91, 0.89, 0.87, 0.19, 0.17, 0.23, 0.21], \n",
    "    'B': [0.09, 0.07, 0.13, 0.11, 0.83, 0.81, 0.79, 0.77]\n",
    "}\n",
    "\n",
    "df = pd.DataFrame(data=d)\n",
    "\n",
    "df"
   ]
  },
  {
   "cell_type": "markdown",
   "metadata": {},
   "source": [
    "Representamos gráficamente la matriz para observar la naturaleza de los datos:"
   ]
  },
  {
   "cell_type": "code",
   "execution_count": 3,
   "metadata": {},
   "outputs": [
    {
     "data": {
      "image/png": "[encoded data removed]",
      "text/plain": [
       "<Figure size 432x288 with 1 Axes>"
      ]
     },
     "metadata": {
      "needs_background": "light"
     },
     "output_type": "display_data"
    }
   ],
   "source": [
    "df.plot.scatter(x = 'A', y = 'B', c = 'black')\n",
    "plt.show()"
   ]
  },
  {
   "cell_type": "markdown",
   "metadata": {},
   "source": [
    "En este caso parece que hay dos grupos bien diferenciados, así que vamos a utilizar la función `KMeans` para agrupar las muestras en 2 clusters:"
   ]
  },
  {
   "cell_type": "code",
   "execution_count": 4,
   "metadata": {},
   "outputs": [
    {
     "data": {
      "text/plain": [
       "KMeans(n_clusters=2)"
      ]
     },
     "execution_count": 4,
     "metadata": {},
     "output_type": "execute_result"
    }
   ],
   "source": [
    "kmeans = KMeans(n_clusters=2).fit(df)\n",
    "\n",
    "kmeans"
   ]
  },
  {
   "cell_type": "markdown",
   "metadata": {},
   "source": [
    "Obtenemos las coordenadas de los dos centroides:"
   ]
  },
  {
   "cell_type": "code",
   "execution_count": 5,
   "metadata": {},
   "outputs": [
    {
     "name": "stdout",
     "output_type": "stream",
     "text": [
      "Centroide del primer cluster: [0.2 0.8]\n",
      "Centroide del segundo cluster: [0.9 0.1]\n"
     ]
    }
   ],
   "source": [
    "centroids = kmeans.cluster_centers_\n",
    "\n",
    "print('Centroide del primer cluster:', str(centroids[0,:]))\n",
    "print('Centroide del segundo cluster:', str(centroids[1,:]))"
   ]
  },
  {
   "cell_type": "markdown",
   "metadata": {},
   "source": [
    "Y creamos nuevamente el gráfico anterior añadiendo estos dos puntos:"
   ]
  },
  {
   "cell_type": "code",
   "execution_count": 6,
   "metadata": {},
   "outputs": [
    {
     "data": {
      "image/png": "[encoded data removed]",
      "text/plain": [
       "<Figure size 432x288 with 1 Axes>"
      ]
     },
     "metadata": {
      "needs_background": "light"
     },
     "output_type": "display_data"
    }
   ],
   "source": [
    "df.plot.scatter(x = 'A', y = 'B', c = 'black')\n",
    "plt.scatter(centroids[:, 0], centroids[:, 1], c = 'red', marker = 'x')\n",
    "plt.show()"
   ]
  },
  {
   "cell_type": "markdown",
   "metadata": {},
   "source": [
    "Obtenemos las asignaciones de las muestras a los clusters y las añadimos a nuestro dataset:"
   ]
  },
  {
   "cell_type": "code",
   "execution_count": 7,
   "metadata": {},
   "outputs": [
    {
     "name": "stderr",
     "output_type": "stream",
     "text": [
      "/opt/conda/lib/python3.7/site-packages/ipykernel_launcher.py:3: UserWarning: Pandas doesn't allow columns to be created via a new attribute name - see https://pandas.pydata.org/pandas-docs/stable/indexing.html#attribute-access\n",
      "  This is separate from the ipykernel package so we can avoid doing imports until\n"
     ]
    },
    {
     "data": {
      "text/html": [
       "<div>\n",
       "<style scoped>\n",
       "    .dataframe tbody tr th:only-of-type {\n",
       "        vertical-align: middle;\n",
       "    }\n",
       "\n",
       "    .dataframe tbody tr th {\n",
       "        vertical-align: top;\n",
       "    }\n",
       "\n",
       "    .dataframe thead th {\n",
       "        text-align: right;\n",
       "    }\n",
       "</style>\n",
       "<table border=\"1\" class=\"dataframe\">\n",
       "  <thead>\n",
       "    <tr style=\"text-align: right;\">\n",
       "      <th></th>\n",
       "      <th>A</th>\n",
       "      <th>B</th>\n",
       "      <th>group</th>\n",
       "    </tr>\n",
       "  </thead>\n",
       "  <tbody>\n",
       "    <tr>\n",
       "      <th>0</th>\n",
       "      <td>0.93</td>\n",
       "      <td>0.09</td>\n",
       "      <td>1</td>\n",
       "    </tr>\n",
       "    <tr>\n",
       "      <th>1</th>\n",
       "      <td>0.91</td>\n",
       "      <td>0.07</td>\n",
       "      <td>1</td>\n",
       "    </tr>\n",
       "    <tr>\n",
       "      <th>2</th>\n",
       "      <td>0.89</td>\n",
       "      <td>0.13</td>\n",
       "      <td>1</td>\n",
       "    </tr>\n",
       "    <tr>\n",
       "      <th>3</th>\n",
       "      <td>0.87</td>\n",
       "      <td>0.11</td>\n",
       "      <td>1</td>\n",
       "    </tr>\n",
       "    <tr>\n",
       "      <th>4</th>\n",
       "      <td>0.19</td>\n",
       "      <td>0.83</td>\n",
       "      <td>0</td>\n",
       "    </tr>\n",
       "    <tr>\n",
       "      <th>5</th>\n",
       "      <td>0.17</td>\n",
       "      <td>0.81</td>\n",
       "      <td>0</td>\n",
       "    </tr>\n",
       "    <tr>\n",
       "      <th>6</th>\n",
       "      <td>0.23</td>\n",
       "      <td>0.79</td>\n",
       "      <td>0</td>\n",
       "    </tr>\n",
       "    <tr>\n",
       "      <th>7</th>\n",
       "      <td>0.21</td>\n",
       "      <td>0.77</td>\n",
       "      <td>0</td>\n",
       "    </tr>\n",
       "  </tbody>\n",
       "</table>\n",
       "</div>"
      ],
      "text/plain": [
       "      A     B  group\n",
       "0  0.93  0.09      1\n",
       "1  0.91  0.07      1\n",
       "2  0.89  0.13      1\n",
       "3  0.87  0.11      1\n",
       "4  0.19  0.83      0\n",
       "5  0.17  0.81      0\n",
       "6  0.23  0.79      0\n",
       "7  0.21  0.77      0"
      ]
     },
     "execution_count": 7,
     "metadata": {},
     "output_type": "execute_result"
    }
   ],
   "source": [
    "labels = kmeans.predict(df)\n",
    "\n",
    "df.labeled = pd.concat([df, pd.DataFrame({'group': labels})], axis = 1)\n",
    "\n",
    "df.labeled"
   ]
  },
  {
   "cell_type": "markdown",
   "metadata": {},
   "source": [
    "Y utilizamos las etiquetas para dar un color a los puntos:"
   ]
  },
  {
   "cell_type": "code",
   "execution_count": 8,
   "metadata": {},
   "outputs": [
    {
     "data": {
      "image/png": "[encoded data removed]",
      "text/plain": [
       "<Figure size 432x288 with 1 Axes>"
      ]
     },
     "metadata": {
      "needs_background": "light"
     },
     "output_type": "display_data"
    }
   ],
   "source": [
    "colors = np.where(df.labeled['group']==0,'m','g')\n",
    "\n",
    "df.plot.scatter(x = 'A', y = 'B', c = colors)\n",
    "plt.scatter(centroids[:, 0], centroids[:, 1], c = 'red', marker = 'x')\n",
    "plt.show()"
   ]
  },
  {
   "cell_type": "markdown",
   "metadata": {},
   "source": [
    "Podemos comprobar cómo la media de los puntos asignados a cada cluster se corresponde con el centroide:"
   ]
  },
  {
   "cell_type": "code",
   "execution_count": 9,
   "metadata": {},
   "outputs": [
    {
     "name": "stdout",
     "output_type": "stream",
     "text": [
      "Centroide del primer cluster:\n",
      " A        0.2\n",
      "B        0.8\n",
      "group    0.0\n",
      "dtype: float64\n",
      "\n",
      "Centroide del segundo cluster:\n",
      " A        0.9\n",
      "B        0.1\n",
      "group    1.0\n",
      "dtype: float64\n"
     ]
    }
   ],
   "source": [
    "centroid0 = df.labeled[df.labeled['group'] == 0].sum(axis = 0) / 4\n",
    "centroid1 = df.labeled[df.labeled['group'] == 1].sum(axis = 0) / 4\n",
    "\n",
    "print('Centroide del primer cluster:\\n', centroid0)\n",
    "print('\\nCentroide del segundo cluster:\\n', centroid1)"
   ]
  },
  {
   "cell_type": "markdown",
   "metadata": {},
   "source": [
    "Aplicamos el método *elbow* a este ejemplo, utilizando de 1 a 3 clusters:"
   ]
  },
  {
   "cell_type": "code",
   "execution_count": 16,
   "metadata": {},
   "outputs": [
    {
     "data": {
      "image/png": "[encoded data removed]",
      "text/plain": [
       "<Figure size 432x288 with 1 Axes>"
      ]
     },
     "metadata": {
      "needs_background": "light"
     },
     "output_type": "display_data"
    }
   ],
   "source": [
    "k_range = range(1, 4)\n",
    "\n",
    "kmeans = [KMeans(n_clusters=i) for i in k_range]\n",
    "inertia = [kmeans[i].fit(df).inertia_ for i in range(len(kmeans))]\n",
    "\n",
    "plt.xlabel('k')\n",
    "plt.ylabel('inertia')\n",
    "plt.plot(k_range, inertia, linestyle='--', marker='o', color='black')\n",
    "plt.show()"
   ]
  },
  {
   "cell_type": "markdown",
   "metadata": {},
   "source": [
    "Finalmente, haremos el análisis de silhouette para este caso. Para ello, sklearn incluye dos funciones: `silhouette_samples`, que devuelve los scores de todas las muestras dadas (https://scikit-learn.org/stable/modules/generated/sklearn.metrics.silhouette_samples.html), y `silhouette_score`, que devuelve el score medio sobre todas las muestras (https://scikit-learn.org/stable/modules/generated/sklearn.metrics.silhouette_score.html). En la documentación de sklearn se puede encontrar un ejemplo de este tipo de análisis: https://scikit-learn.org/stable/auto_examples/cluster/plot_kmeans_silhouette_analysis.html\n",
    "\n",
    "Dado que esta métrica requiere de al menos dos grupos (clusters), vamos a calcular los silhouette scores solo para k = 2 y k = 3:"
   ]
  },
  {
   "cell_type": "code",
   "execution_count": 11,
   "metadata": {},
   "outputs": [
    {
     "name": "stdout",
     "output_type": "stream",
     "text": [
      "silhouette para k = 2: 0.9501021758103687\n",
      "silhouette para k = 3: 0.7382483773636076\n"
     ]
    }
   ],
   "source": [
    "from sklearn import metrics\n",
    "\n",
    "labels_k = [kmeans[i].predict(df) for i in range(1, 3)]\n",
    "silhouettes = [metrics.silhouette_score(df, labels_k[i-1], metric = 'euclidean') for i in range(1, 3)]\n",
    "\n",
    "print('silhouette para k = 2:', silhouettes[0])\n",
    "print('silhouette para k = 3:', silhouettes[1])"
   ]
  },
  {
   "cell_type": "code",
   "execution_count": 12,
   "metadata": {
    "scrolled": true
   },
   "outputs": [
    {
     "name": "stderr",
     "output_type": "stream",
     "text": [
      "/opt/conda/lib/python3.7/site-packages/ipykernel_launcher.py:7: UserWarning: Pandas doesn't allow columns to be created via a new attribute name - see https://pandas.pydata.org/pandas-docs/stable/indexing.html#attribute-access\n",
      "  import sys\n"
     ]
    },
    {
     "data": {
      "text/html": [
       "<div>\n",
       "<style scoped>\n",
       "    .dataframe tbody tr th:only-of-type {\n",
       "        vertical-align: middle;\n",
       "    }\n",
       "\n",
       "    .dataframe tbody tr th {\n",
       "        vertical-align: top;\n",
       "    }\n",
       "\n",
       "    .dataframe thead th {\n",
       "        text-align: right;\n",
       "    }\n",
       "</style>\n",
       "<table border=\"1\" class=\"dataframe\">\n",
       "  <thead>\n",
       "    <tr style=\"text-align: right;\">\n",
       "      <th></th>\n",
       "      <th>A</th>\n",
       "      <th>B</th>\n",
       "      <th>group (k = 2)</th>\n",
       "      <th>silhouette (k = 2)</th>\n",
       "      <th>group (k = 3)</th>\n",
       "      <th>silhouette (k = 3)</th>\n",
       "    </tr>\n",
       "  </thead>\n",
       "  <tbody>\n",
       "    <tr>\n",
       "      <th>0</th>\n",
       "      <td>0.93</td>\n",
       "      <td>0.09</td>\n",
       "      <td>0</td>\n",
       "      <td>0.951527</td>\n",
       "      <td>2</td>\n",
       "      <td>0.527864</td>\n",
       "    </tr>\n",
       "    <tr>\n",
       "      <th>1</th>\n",
       "      <td>0.91</td>\n",
       "      <td>0.07</td>\n",
       "      <td>0</td>\n",
       "      <td>0.951527</td>\n",
       "      <td>2</td>\n",
       "      <td>0.527864</td>\n",
       "    </tr>\n",
       "    <tr>\n",
       "      <th>2</th>\n",
       "      <td>0.89</td>\n",
       "      <td>0.13</td>\n",
       "      <td>0</td>\n",
       "      <td>0.948677</td>\n",
       "      <td>1</td>\n",
       "      <td>0.527864</td>\n",
       "    </tr>\n",
       "    <tr>\n",
       "      <th>3</th>\n",
       "      <td>0.87</td>\n",
       "      <td>0.11</td>\n",
       "      <td>0</td>\n",
       "      <td>0.948677</td>\n",
       "      <td>1</td>\n",
       "      <td>0.527864</td>\n",
       "    </tr>\n",
       "    <tr>\n",
       "      <th>4</th>\n",
       "      <td>0.19</td>\n",
       "      <td>0.83</td>\n",
       "      <td>1</td>\n",
       "      <td>0.951527</td>\n",
       "      <td>0</td>\n",
       "      <td>0.950143</td>\n",
       "    </tr>\n",
       "    <tr>\n",
       "      <th>5</th>\n",
       "      <td>0.17</td>\n",
       "      <td>0.81</td>\n",
       "      <td>1</td>\n",
       "      <td>0.951527</td>\n",
       "      <td>0</td>\n",
       "      <td>0.950143</td>\n",
       "    </tr>\n",
       "    <tr>\n",
       "      <th>6</th>\n",
       "      <td>0.23</td>\n",
       "      <td>0.79</td>\n",
       "      <td>1</td>\n",
       "      <td>0.948677</td>\n",
       "      <td>0</td>\n",
       "      <td>0.947123</td>\n",
       "    </tr>\n",
       "    <tr>\n",
       "      <th>7</th>\n",
       "      <td>0.21</td>\n",
       "      <td>0.77</td>\n",
       "      <td>1</td>\n",
       "      <td>0.948677</td>\n",
       "      <td>0</td>\n",
       "      <td>0.947123</td>\n",
       "    </tr>\n",
       "  </tbody>\n",
       "</table>\n",
       "</div>"
      ],
      "text/plain": [
       "      A     B  group (k = 2)  silhouette (k = 2)  group (k = 3)  \\\n",
       "0  0.93  0.09              0            0.951527              2   \n",
       "1  0.91  0.07              0            0.951527              2   \n",
       "2  0.89  0.13              0            0.948677              1   \n",
       "3  0.87  0.11              0            0.948677              1   \n",
       "4  0.19  0.83              1            0.951527              0   \n",
       "5  0.17  0.81              1            0.951527              0   \n",
       "6  0.23  0.79              1            0.948677              0   \n",
       "7  0.21  0.77              1            0.948677              0   \n",
       "\n",
       "   silhouette (k = 3)  \n",
       "0            0.527864  \n",
       "1            0.527864  \n",
       "2            0.527864  \n",
       "3            0.527864  \n",
       "4            0.950143  \n",
       "5            0.950143  \n",
       "6            0.947123  \n",
       "7            0.947123  "
      ]
     },
     "execution_count": 12,
     "metadata": {},
     "output_type": "execute_result"
    }
   ],
   "source": [
    "df.silhouette = pd.concat([\n",
    "    df, \n",
    "    pd.DataFrame({'group (k = 2)': labels_k[0]}),\n",
    "    pd.DataFrame({'silhouette (k = 2)': metrics.silhouette_samples(df, labels_k[0], metric = 'euclidean')}),\n",
    "    pd.DataFrame({'group (k = 3)': labels_k[1]}),\n",
    "    pd.DataFrame({'silhouette (k = 3)': metrics.silhouette_samples(df, labels_k[1], metric = 'euclidean')}),\n",
    "], axis = 1)\n",
    "\n",
    "df.silhouette"
   ]
  },
  {
   "cell_type": "markdown",
   "metadata": {},
   "source": [
    "## Escalado de variables"
   ]
  },
  {
   "cell_type": "markdown",
   "metadata": {},
   "source": [
    "Tal y como comentamos en clase de teoría, en ciertos casos puede ser necesario aplicar un escalado de variables para conseguir mejores resultados y evitar que ciertas variables dominen el método empleado. Comenzamos por añadir una nueva variable C al ejemplo anterior y aplicar el algoritmo K-Means con k = 2. Tal y como se puede ver, esta variable toma valores de 0.56 o 0.55 independientemente del \"grupo\" al que pertenece según el K-Means anterior, y el resultado de este nuevo K-Means incluyendo dicha variable es el mismo."
   ]
  },
  {
   "cell_type": "code",
   "execution_count": 13,
   "metadata": {},
   "outputs": [
    {
     "name": "stderr",
     "output_type": "stream",
     "text": [
      "/opt/conda/lib/python3.7/site-packages/ipykernel_launcher.py:11: UserWarning: Pandas doesn't allow columns to be created via a new attribute name - see https://pandas.pydata.org/pandas-docs/stable/indexing.html#attribute-access\n",
      "  # This is added back by InteractiveShellApp.init_path()\n"
     ]
    },
    {
     "data": {
      "text/html": [
       "<div>\n",
       "<style scoped>\n",
       "    .dataframe tbody tr th:only-of-type {\n",
       "        vertical-align: middle;\n",
       "    }\n",
       "\n",
       "    .dataframe tbody tr th {\n",
       "        vertical-align: top;\n",
       "    }\n",
       "\n",
       "    .dataframe thead th {\n",
       "        text-align: right;\n",
       "    }\n",
       "</style>\n",
       "<table border=\"1\" class=\"dataframe\">\n",
       "  <thead>\n",
       "    <tr style=\"text-align: right;\">\n",
       "      <th></th>\n",
       "      <th>A</th>\n",
       "      <th>B</th>\n",
       "      <th>C</th>\n",
       "      <th>group</th>\n",
       "    </tr>\n",
       "  </thead>\n",
       "  <tbody>\n",
       "    <tr>\n",
       "      <th>0</th>\n",
       "      <td>0.93</td>\n",
       "      <td>0.09</td>\n",
       "      <td>0.55</td>\n",
       "      <td>0</td>\n",
       "    </tr>\n",
       "    <tr>\n",
       "      <th>1</th>\n",
       "      <td>0.91</td>\n",
       "      <td>0.07</td>\n",
       "      <td>0.56</td>\n",
       "      <td>0</td>\n",
       "    </tr>\n",
       "    <tr>\n",
       "      <th>2</th>\n",
       "      <td>0.89</td>\n",
       "      <td>0.13</td>\n",
       "      <td>0.55</td>\n",
       "      <td>0</td>\n",
       "    </tr>\n",
       "    <tr>\n",
       "      <th>3</th>\n",
       "      <td>0.87</td>\n",
       "      <td>0.11</td>\n",
       "      <td>0.56</td>\n",
       "      <td>0</td>\n",
       "    </tr>\n",
       "    <tr>\n",
       "      <th>4</th>\n",
       "      <td>0.19</td>\n",
       "      <td>0.83</td>\n",
       "      <td>0.55</td>\n",
       "      <td>1</td>\n",
       "    </tr>\n",
       "    <tr>\n",
       "      <th>5</th>\n",
       "      <td>0.17</td>\n",
       "      <td>0.81</td>\n",
       "      <td>0.56</td>\n",
       "      <td>1</td>\n",
       "    </tr>\n",
       "    <tr>\n",
       "      <th>6</th>\n",
       "      <td>0.23</td>\n",
       "      <td>0.79</td>\n",
       "      <td>0.55</td>\n",
       "      <td>1</td>\n",
       "    </tr>\n",
       "    <tr>\n",
       "      <th>7</th>\n",
       "      <td>0.21</td>\n",
       "      <td>0.77</td>\n",
       "      <td>0.56</td>\n",
       "      <td>1</td>\n",
       "    </tr>\n",
       "  </tbody>\n",
       "</table>\n",
       "</div>"
      ],
      "text/plain": [
       "      A     B     C  group\n",
       "0  0.93  0.09  0.55      0\n",
       "1  0.91  0.07  0.56      0\n",
       "2  0.89  0.13  0.55      0\n",
       "3  0.87  0.11  0.56      0\n",
       "4  0.19  0.83  0.55      1\n",
       "5  0.17  0.81  0.56      1\n",
       "6  0.23  0.79  0.55      1\n",
       "7  0.21  0.77  0.56      1"
      ]
     },
     "execution_count": 13,
     "metadata": {},
     "output_type": "execute_result"
    }
   ],
   "source": [
    "d_1 = {\n",
    "    'A': [0.93, 0.91, 0.89, 0.87, 0.19, 0.17, 0.23, 0.21], \n",
    "    'B': [0.09, 0.07, 0.13, 0.11, 0.83, 0.81, 0.79, 0.77],\n",
    "    'C': [0.55, 0.56, 0.55, 0.56, 0.55, 0.56, 0.55, 0.56]\n",
    "}\n",
    "\n",
    "df_1 = pd.DataFrame(data=d_1)\n",
    "\n",
    "kmeans_1 = KMeans(n_clusters=2).fit(df_1)\n",
    "\n",
    "df_1.labeled = pd.concat([df_1, pd.DataFrame({'group': kmeans_1.predict(df_1)})], axis = 1)\n",
    "\n",
    "df_1.labeled"
   ]
  },
  {
   "cell_type": "markdown",
   "metadata": {},
   "source": [
    "Ahora, creamos un DataFrame similar pero con la variable C en una escala superior, es decir, con los valores 550 y 560 distribuidos de igual modo entre las 8 muestras. En este caso, se puede observar como estos valores tan altos dominan las distancias y se obtiene un agrupamiento diferente."
   ]
  },
  {
   "cell_type": "code",
   "execution_count": 14,
   "metadata": {},
   "outputs": [
    {
     "name": "stderr",
     "output_type": "stream",
     "text": [
      "/opt/conda/lib/python3.7/site-packages/ipykernel_launcher.py:11: UserWarning: Pandas doesn't allow columns to be created via a new attribute name - see https://pandas.pydata.org/pandas-docs/stable/indexing.html#attribute-access\n",
      "  # This is added back by InteractiveShellApp.init_path()\n"
     ]
    },
    {
     "data": {
      "text/html": [
       "<div>\n",
       "<style scoped>\n",
       "    .dataframe tbody tr th:only-of-type {\n",
       "        vertical-align: middle;\n",
       "    }\n",
       "\n",
       "    .dataframe tbody tr th {\n",
       "        vertical-align: top;\n",
       "    }\n",
       "\n",
       "    .dataframe thead th {\n",
       "        text-align: right;\n",
       "    }\n",
       "</style>\n",
       "<table border=\"1\" class=\"dataframe\">\n",
       "  <thead>\n",
       "    <tr style=\"text-align: right;\">\n",
       "      <th></th>\n",
       "      <th>A</th>\n",
       "      <th>B</th>\n",
       "      <th>C</th>\n",
       "      <th>group</th>\n",
       "    </tr>\n",
       "  </thead>\n",
       "  <tbody>\n",
       "    <tr>\n",
       "      <th>0</th>\n",
       "      <td>0.93</td>\n",
       "      <td>0.09</td>\n",
       "      <td>550</td>\n",
       "      <td>1</td>\n",
       "    </tr>\n",
       "    <tr>\n",
       "      <th>1</th>\n",
       "      <td>0.91</td>\n",
       "      <td>0.07</td>\n",
       "      <td>560</td>\n",
       "      <td>0</td>\n",
       "    </tr>\n",
       "    <tr>\n",
       "      <th>2</th>\n",
       "      <td>0.89</td>\n",
       "      <td>0.13</td>\n",
       "      <td>550</td>\n",
       "      <td>1</td>\n",
       "    </tr>\n",
       "    <tr>\n",
       "      <th>3</th>\n",
       "      <td>0.87</td>\n",
       "      <td>0.11</td>\n",
       "      <td>560</td>\n",
       "      <td>0</td>\n",
       "    </tr>\n",
       "    <tr>\n",
       "      <th>4</th>\n",
       "      <td>0.19</td>\n",
       "      <td>0.83</td>\n",
       "      <td>550</td>\n",
       "      <td>1</td>\n",
       "    </tr>\n",
       "    <tr>\n",
       "      <th>5</th>\n",
       "      <td>0.17</td>\n",
       "      <td>0.81</td>\n",
       "      <td>560</td>\n",
       "      <td>0</td>\n",
       "    </tr>\n",
       "    <tr>\n",
       "      <th>6</th>\n",
       "      <td>0.23</td>\n",
       "      <td>0.79</td>\n",
       "      <td>550</td>\n",
       "      <td>1</td>\n",
       "    </tr>\n",
       "    <tr>\n",
       "      <th>7</th>\n",
       "      <td>0.21</td>\n",
       "      <td>0.77</td>\n",
       "      <td>560</td>\n",
       "      <td>0</td>\n",
       "    </tr>\n",
       "  </tbody>\n",
       "</table>\n",
       "</div>"
      ],
      "text/plain": [
       "      A     B    C  group\n",
       "0  0.93  0.09  550      1\n",
       "1  0.91  0.07  560      0\n",
       "2  0.89  0.13  550      1\n",
       "3  0.87  0.11  560      0\n",
       "4  0.19  0.83  550      1\n",
       "5  0.17  0.81  560      0\n",
       "6  0.23  0.79  550      1\n",
       "7  0.21  0.77  560      0"
      ]
     },
     "execution_count": 14,
     "metadata": {},
     "output_type": "execute_result"
    }
   ],
   "source": [
    "d_2 = {\n",
    "    'A': [0.93, 0.91, 0.89, 0.87, 0.19, 0.17, 0.23, 0.21], \n",
    "    'B': [0.09, 0.07, 0.13, 0.11, 0.83, 0.81, 0.79, 0.77],\n",
    "    'C': [550, 560, 550, 560, 550, 560, 550, 560]\n",
    "}\n",
    "\n",
    "df_2 = pd.DataFrame(data=d_2)\n",
    "\n",
    "kmeans_2 = KMeans(n_clusters=2).fit(df_2)\n",
    "\n",
    "df_2.labeled = pd.concat([df_2, pd.DataFrame({'group': kmeans_2.predict(df_2)})], axis = 1)\n",
    "\n",
    "df_2.labeled"
   ]
  },
  {
   "cell_type": "markdown",
   "metadata": {},
   "source": [
    "Para evitar que ciertas variables dominen el cálculo de los grupos, es habitual aplicar un escalado de variables que las sitúe en escalas comparables. La técnica más habitual es la estandarización, que consiste en escalar cada variable restando a cada valor la media y dividiéndolo por la desviación típica. De esta manera, cada variable tendrá media = 0 y desviación típica = 1. Aplicamos el escalado utilizando el `StandardScaler` de sklearn y comprobamos el resultado del agrupamiento, que vuelve a dejar de estar influenciado por la variable C."
   ]
  },
  {
   "cell_type": "code",
   "execution_count": 15,
   "metadata": {},
   "outputs": [
    {
     "name": "stdout",
     "output_type": "stream",
     "text": [
      "          0         1    2\n",
      "0  1.083505 -1.026479 -1.0\n",
      "1  1.026479 -1.083505  1.0\n",
      "2  0.969452 -0.912426 -1.0\n",
      "3  0.912426 -0.969452  1.0\n",
      "4 -1.026479  1.083505 -1.0\n",
      "5 -1.083505  1.026479  1.0\n",
      "6 -0.912426  0.969452 -1.0\n",
      "7 -0.969452  0.912426  1.0\n",
      "[5.50e-01 4.50e-01 5.55e+02]\n"
     ]
    },
    {
     "data": {
      "text/html": [
       "<div>\n",
       "<style scoped>\n",
       "    .dataframe tbody tr th:only-of-type {\n",
       "        vertical-align: middle;\n",
       "    }\n",
       "\n",
       "    .dataframe tbody tr th {\n",
       "        vertical-align: top;\n",
       "    }\n",
       "\n",
       "    .dataframe thead th {\n",
       "        text-align: right;\n",
       "    }\n",
       "</style>\n",
       "<table border=\"1\" class=\"dataframe\">\n",
       "  <thead>\n",
       "    <tr style=\"text-align: right;\">\n",
       "      <th></th>\n",
       "      <th>0</th>\n",
       "      <th>1</th>\n",
       "      <th>2</th>\n",
       "      <th>group</th>\n",
       "    </tr>\n",
       "  </thead>\n",
       "  <tbody>\n",
       "    <tr>\n",
       "      <th>0</th>\n",
       "      <td>1.083505</td>\n",
       "      <td>-1.026479</td>\n",
       "      <td>-1.0</td>\n",
       "      <td>1</td>\n",
       "    </tr>\n",
       "    <tr>\n",
       "      <th>1</th>\n",
       "      <td>1.026479</td>\n",
       "      <td>-1.083505</td>\n",
       "      <td>1.0</td>\n",
       "      <td>1</td>\n",
       "    </tr>\n",
       "    <tr>\n",
       "      <th>2</th>\n",
       "      <td>0.969452</td>\n",
       "      <td>-0.912426</td>\n",
       "      <td>-1.0</td>\n",
       "      <td>1</td>\n",
       "    </tr>\n",
       "    <tr>\n",
       "      <th>3</th>\n",
       "      <td>0.912426</td>\n",
       "      <td>-0.969452</td>\n",
       "      <td>1.0</td>\n",
       "      <td>1</td>\n",
       "    </tr>\n",
       "    <tr>\n",
       "      <th>4</th>\n",
       "      <td>-1.026479</td>\n",
       "      <td>1.083505</td>\n",
       "      <td>-1.0</td>\n",
       "      <td>0</td>\n",
       "    </tr>\n",
       "    <tr>\n",
       "      <th>5</th>\n",
       "      <td>-1.083505</td>\n",
       "      <td>1.026479</td>\n",
       "      <td>1.0</td>\n",
       "      <td>0</td>\n",
       "    </tr>\n",
       "    <tr>\n",
       "      <th>6</th>\n",
       "      <td>-0.912426</td>\n",
       "      <td>0.969452</td>\n",
       "      <td>-1.0</td>\n",
       "      <td>0</td>\n",
       "    </tr>\n",
       "    <tr>\n",
       "      <th>7</th>\n",
       "      <td>-0.969452</td>\n",
       "      <td>0.912426</td>\n",
       "      <td>1.0</td>\n",
       "      <td>0</td>\n",
       "    </tr>\n",
       "  </tbody>\n",
       "</table>\n",
       "</div>"
      ],
      "text/plain": [
       "          0         1    2  group\n",
       "0  1.083505 -1.026479 -1.0      1\n",
       "1  1.026479 -1.083505  1.0      1\n",
       "2  0.969452 -0.912426 -1.0      1\n",
       "3  0.912426 -0.969452  1.0      1\n",
       "4 -1.026479  1.083505 -1.0      0\n",
       "5 -1.083505  1.026479  1.0      0\n",
       "6 -0.912426  0.969452 -1.0      0\n",
       "7 -0.969452  0.912426  1.0      0"
      ]
     },
     "execution_count": 15,
     "metadata": {},
     "output_type": "execute_result"
    }
   ],
   "source": [
    "from sklearn.preprocessing import StandardScaler\n",
    "scaler = StandardScaler()\n",
    "df_2_scaled = pd.DataFrame(scaler.fit_transform(df_2))\n",
    "\n",
    "print(df_2_scaled)\n",
    "\n",
    "print(scaler.mean_)\n",
    "\n",
    "kmeans_2 = KMeans(n_clusters=2).fit(df_2_scaled)\n",
    "\n",
    "df_2.labeled = pd.concat([df_2_scaled, pd.DataFrame({'group': kmeans_2.predict(df_2_scaled)})], axis = 1)\n",
    "\n",
    "df_2.labeled"
   ]
  },
  {
   "cell_type": "code",
   "execution_count": null,
   "metadata": {},
   "outputs": [],
   "source": []
  }
 ],
 "metadata": {
  "kernelspec": {
   "display_name": "Python 3",
   "language": "python",
   "name": "python3"
  },
  "language_info": {
   "codemirror_mode": {
    "name": "ipython",
    "version": 3
   },
   "file_extension": ".py",
   "mimetype": "text/x-python",
   "name": "python",
   "nbconvert_exporter": "python",
   "pygments_lexer": "ipython3",
   "version": "3.7.3"
  }
 },
 "nbformat": 4,
 "nbformat_minor": 2
}
