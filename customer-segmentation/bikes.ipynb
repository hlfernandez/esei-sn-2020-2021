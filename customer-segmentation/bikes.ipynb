{
 "cells": [
  {
   "cell_type": "markdown",
   "metadata": {},
   "source": [
    "# Customer Segmentation using K-Means: Bike Sales Dataset\n",
    "\n",
    "En este caso de estudio se muestran los pasos necesarios para identificar grupos de clientes en un conjunto de datos de ventas de bicicletas. En este caso, los clientes son tiendas de bicicletas ubicadas en distintas localidades de EEUU que compran a un distribuidor central. \n",
    "\n",
    "Este caso de estudio está basado en lo publicado en esta página web: https://www.business-science.io/business/2016/08/07/CustomerSegmentationPt1.html\n",
    "\n",
    "Comenzamos importando las librerías necesarias y cargando los tres ficheros de datos de entrada: `orders.xlsx` que contiene las transacciones, `products.xlsx` que contiene el listado de bicicletas y `bikeshops.xlsx` que contiene el listado de clientes:"
   ]
  },
  {
   "cell_type": "code",
   "execution_count": null,
   "metadata": {},
   "outputs": [],
   "source": [
    "from sklearn import preprocessing \n",
    "from sklearn.cluster import KMeans\n",
    "\n",
    "import matplotlib.pyplot as plt\n",
    "import pandas as pd\n",
    "\n",
    "orders = pd.read_excel('orders.xlsx', index_col=0, header=0)\n",
    "products = pd.read_excel('bikes.xlsx', index_col=None, header=0)\n",
    "customers = pd.read_excel('bikeshops.xlsx', index_col=None, header=0)"
   ]
  },
  {
   "cell_type": "markdown",
   "metadata": {},
   "source": [
    "Comprobamos el contenido de cada uno de los ficheros:"
   ]
  },
  {
   "cell_type": "code",
   "execution_count": null,
   "metadata": {},
   "outputs": [],
   "source": [
    "display(orders.head())\n",
    "display(products.head())\n",
    "display(customers.head())"
   ]
  },
  {
   "cell_type": "markdown",
   "metadata": {},
   "source": [
    "A continuación, vamos a juntar los tres DataFrames en uno utilizando la función `pandas.merge`:"
   ]
  },
  {
   "cell_type": "code",
   "execution_count": null,
   "metadata": {},
   "outputs": [],
   "source": [
    "ordersExtended = pd.merge(orders, customers, left_on = 'customer.id', right_on = 'bikeshop.id', how = 'left')\n",
    "ordersExtended = pd.merge(ordersExtended, products, left_on = 'product.id', right_on = 'bike.id', how ='left')"
   ]
  },
  {
   "cell_type": "code",
   "execution_count": null,
   "metadata": {},
   "outputs": [],
   "source": [
    "ordersExtended.head()"
   ]
  },
  {
   "cell_type": "markdown",
   "metadata": {},
   "source": [
    "## Preparación de los datos para el agrupamiento\n",
    "\n",
    "En este caso de estudio vamos a tratar de identificar grupos de clientes (tiendas de bicicletas) en función de los modelos de bicicleta comprados. Para ello, la unidad de medida será la cantidad de bicicletas compradas de cada modelo. El objetivo de este apartado es manipular el DataFrame de entrada (`orders.extended`) en un DataFrame que contenga tantas filas como bicicletas y tantas columnas como clientes, siendo el valor de cada celda la cantidad de unidades del modelo correspondiente compradas por la tienda.\n",
    "\n",
    "El primer paso es crear un DataFrame llamado `customerTrends` que contenga: una fila por cada modelo de bicicleta, las correspondientes columnas que describen al modelo de bicicleta y tantas columnas como clientes hay. Para ello, se utiliza la función `groupby` para agrupar por modelo de bicicleta y luego se hace la dispersión de la columna inicial (`bikeshop.name`) utilizando la fuunción `unstack(level=0, fill_value=0)`."
   ]
  },
  {
   "cell_type": "code",
   "execution_count": null,
   "metadata": {},
   "outputs": [],
   "source": [
    "customerTrends = ordersExtended.groupby(\n",
    "    ['bikeshop.name', 'model', 'category1','category2', 'frame', 'price']\n",
    ")['quantity'].sum().unstack(level=0, fill_value=0).reset_index()\n",
    "\n",
    "customerTrends = pd.DataFrame(customerTrends)\n",
    "\n",
    "display(customerTrends)"
   ]
  },
  {
   "cell_type": "markdown",
   "metadata": {},
   "source": [
    "A continuación, convertiremos el precio de cada modelo a una variable categórica que represente los conceptos de \"precio alto\" (de más de 3500) y \"precio bajo\" (de menos de 3500). Añadimos una columna llamada `price_range` al DataFrame `customerTrends` con esta nueva información:"
   ]
  },
  {
   "cell_type": "code",
   "execution_count": null,
   "metadata": {},
   "outputs": [],
   "source": [
    "priceCategories = pd.DataFrame({'price_range': pd.cut(customerTrends['price'], [0, 3500, customerTrends['price'].max()])})\n",
    "\n",
    "customerTrends = pd.concat([customerTrends, priceCategories], axis = 1).reset_index()\n",
    "\n",
    "display(customerTrends.head())"
   ]
  },
  {
   "cell_type": "markdown",
   "metadata": {},
   "source": [
    "Finalmente, debemos escalar los datos para identificar correctamente las preferencias de compra de cada cliente, pues las cantidades totales pueden presentar un problema. Por ejemplo, si comparamos al cliente A, que compra 4000 unidades del modelo 1 y 2000 del modelo 2, con el cliente B, que compra 400 unidades del modelo 1 y 40 del modelo 2, realmente el cliente B tiene preferencia por el modelo 1 pero este patrón se vería enmascarado por la gran cantidad de unidades compradas por el cliente A. Para hacer esta comparación posible, vamos a convertir las cantidades a proporciones, de manera que en cada columna (para cada cliente) tendremos el porcentaje de unidades de cada modelo sobre el total de sus compras."
   ]
  },
  {
   "cell_type": "code",
   "execution_count": null,
   "metadata": {},
   "outputs": [],
   "source": [
    "counts = customerTrends.loc[:, 'Albuquerque Cycles':'Wichita Speed']\n",
    "\n",
    "proportions = counts.div(counts.sum(axis=0), axis=1)\n",
    "\n",
    "display(proportions.head())"
   ]
  },
  {
   "cell_type": "markdown",
   "metadata": {},
   "source": [
    "Y finalmente, dado que la función K-Means espera que las muestras estén en filas, debemos transponer el DataFrame:"
   ]
  },
  {
   "cell_type": "code",
   "execution_count": null,
   "metadata": {},
   "outputs": [],
   "source": [
    "proportions = proportions.transpose()\n",
    "\n",
    "proportions.columns = customerTrends['model']\n",
    "\n",
    "display(proportions.head())"
   ]
  },
  {
   "cell_type": "markdown",
   "metadata": {},
   "source": [
    "## Determinar el valor de k\n",
    "\n",
    "Antes de aplicar K-Means, determinamos el mejor valor de k mediante el método de Elbow:"
   ]
  },
  {
   "cell_type": "code",
   "execution_count": null,
   "metadata": {},
   "outputs": [],
   "source": [
    "nc = range(1,9)\n",
    "kmeans = [KMeans(n_clusters=i, n_init=50) for i in nc]\n",
    "scores = [kmeans[i].fit(proportions).inertia_ for i in range(len(kmeans))]\n",
    "\n",
    "print('Scores')\n",
    "display(scores)\n",
    "\n",
    "plt.xlabel('Número de clústeres (k)')\n",
    "plt.ylabel('Suma de los errores cuadráticos (inertia)')\n",
    "plt.plot(nc, scores)"
   ]
  },
  {
   "cell_type": "markdown",
   "metadata": {},
   "source": [
    "En base a este resultado, podemos seleccionar k = 4.\n",
    "\n",
    "## Aplicación de K-Means\n",
    "\n",
    "Con k = 4 aplicamos K-Means y almacenamos en un array los centroides y comprobamos que hay cuatro valores (uno por cada cluster)."
   ]
  },
  {
   "cell_type": "code",
   "execution_count": null,
   "metadata": {},
   "outputs": [],
   "source": [
    "kmeans = KMeans(n_clusters=4).fit(proportions)\n",
    "centroids = kmeans.cluster_centers_\n",
    "\n",
    "display(len(centroids))"
   ]
  },
  {
   "cell_type": "markdown",
   "metadata": {},
   "source": [
    "Le pedimos al agrupamiento obtenido que asigne una etiqueta a cada muestra del DataFrame `proportions` y utilizamos esta información para crear un DataFrame en que veamos el nombre de cada cliente y el grupo al que ha sido asignado:"
   ]
  },
  {
   "cell_type": "code",
   "execution_count": null,
   "metadata": {},
   "outputs": [],
   "source": [
    "labels = kmeans.predict(proportions)\n",
    "print(len(labels))\n",
    "\n",
    "labels = pd.DataFrame({'cluster': labels})\n",
    "customerNames = pd.DataFrame({'bikeshop': proportions.axes[0].tolist()})\n",
    "\n",
    "customerClusters = pd.concat([customerNames, labels], axis = 1).reset_index()\n",
    "\n",
    "customerClusters.sort_values(by=['cluster'])"
   ]
  },
  {
   "cell_type": "markdown",
   "metadata": {},
   "source": [
    "## Analizar las preferencias de cada uno de los segmentos\n",
    "\n",
    "Finalmente, concatemamos los 4 centroides al DataFrame `customerTrends` que teníamos anteriormente, creando un nuevo DataFrame llamado `customerTrends_withCentroids`:"
   ]
  },
  {
   "cell_type": "code",
   "execution_count": null,
   "metadata": {},
   "outputs": [],
   "source": [
    "centroids_df = pd.DataFrame(centroids).transpose()\n",
    "centroids_df.columns = ['0', '1', '2', '3']\n",
    "\n",
    "customerTrends_withCentroids = pd.concat([customerTrends, centroids_df], axis = 1).reset_index()\n",
    "\n",
    "display(customerTrends_withCentroids.head())"
   ]
  },
  {
   "cell_type": "markdown",
   "metadata": {},
   "source": [
    "Podemos utilizar ahora este nuevo DataFrame para listarlo ordenado descendientemente por alguno de los nuevos centroides, de manera que podamos ver el listado de bicicletas preferente asociado a dicho grupo:"
   ]
  },
  {
   "cell_type": "code",
   "execution_count": null,
   "metadata": {},
   "outputs": [],
   "source": [
    "customerTrends_withCentroids.sort_values(by = ['2'], ascending = False).head(n = 10)"
   ]
  },
  {
   "cell_type": "markdown",
   "metadata": {},
   "source": [
    "## Ejercicios propuestos\n",
    "\n",
    "1. En este caso de estudio, convertimos la matriz de cantidades a una matriz de proporciones para escalar los datos. Prueba a escalar la matriz de cantidades utilizando la estandarización y repite los análisis posteriores para comprobar cómo pueden variar los resultados.\n",
    "2. Seleccionamos k = 4 porque al aplicar el método de Elbow nos pareció un punto a partir del cual no se ganaba mucho al añadir nuevos clusters. Sin embargo, k = 5 podría ser interesante, repite el análisis con este valor y analiza los nuevos segmentos.\n",
    "3. Realiza el análisis de los Silhouette scores para este caso. En este enlace puedes encontrar información sobre cómo hacer los gráficos (https://scikit-learn.org/stable/auto_examples/cluster/plot_kmeans_silhouette_analysis.html) con los scores, que se pueden calcular con las funciones `silhouette_score` (https://scikit-learn.org/stable/modules/generated/sklearn.metrics.silhouette_score.html) y `silhouette_samples` (https://scikit-learn.org/stable/modules/generated/sklearn.metrics.silhouette_samples.html#sklearn.metrics.silhouette_samples).\n",
    "4. El fichero `mall-customers.csv` contiene 200 transacciones con la siguiente información: género, edad, ingresos anuales y puntuación de gasto (un valor entre 1-100). Aplica K-Means tal y como hemos visto sobre este dataset.\n",
    "5. Echa un vistazo al análisis realizado en el notebook `online-retail.ipynb`, un caso de estudio en el que se aplica el modelo RFM."
   ]
  }
 ],
 "metadata": {
  "kernelspec": {
   "display_name": "Python 3",
   "language": "python",
   "name": "python3"
  },
  "language_info": {
   "codemirror_mode": {
    "name": "ipython",
    "version": 3
   },
   "file_extension": ".py",
   "mimetype": "text/x-python",
   "name": "python",
   "nbconvert_exporter": "python",
   "pygments_lexer": "ipython3",
   "version": "3.7.3"
  }
 },
 "nbformat": 4,
 "nbformat_minor": 2
}
